{
 "cells": [
  {
   "cell_type": "code",
   "execution_count": 1,
   "id": "7cb65778-2507-47ce-890a-67ae9da47af5",
   "metadata": {},
   "outputs": [],
   "source": [
    "# Runs through all datasets in the source-data folder"
   ]
  },
  {
   "cell_type": "code",
   "execution_count": 1,
   "id": "151912a4-e870-4e8b-8140-0c833c5fd030",
   "metadata": {},
   "outputs": [
    {
     "name": "stderr",
     "output_type": "stream",
     "text": [
      "/usr/lib/python3/dist-packages/scipy/__init__.py:146: UserWarning: A NumPy version >=1.17.3 and <1.25.0 is required for this version of SciPy (detected version 1.25.2\n",
      "  warnings.warn(f\"A NumPy version >={np_minversion} and <{np_maxversion}\"\n"
     ]
    },
    {
     "name": "stdout",
     "output_type": "stream",
     "text": [
      "\n",
      "-- Hypergraph Reconstruction from Network Data --\n",
      "Taking datasets from the folder: \"../source-data/\" \n",
      "Modify global variable DATASET_LOCATION to change this.\n",
      "Outputting to folder: \"../output/\" \n",
      "Modify global variable OUTPUT_LOCATION to change this.\n",
      "> run load_file() to start\n",
      "> run load_all()  to load all .gt files in the dataset folder\n"
     ]
    }
   ],
   "source": [
    "run main.py"
   ]
  },
  {
   "cell_type": "code",
   "execution_count": 2,
   "id": "fc63cfd3-cd89-4131-bb94-a54658c996f9",
   "metadata": {},
   "outputs": [
    {
     "name": "stdout",
     "output_type": "stream",
     "text": [
      "[0] karate_77.gt\n",
      "\tFile: ../source-data/karate_77.gt\n",
      "[1] euroroad.gt\n",
      "\tFile: ../source-data/euroroad.gt\n",
      "[2] windsurfers.gt\n",
      "\tFile: ../source-data/windsurfers.gt\n",
      "[3] karate_78.gt\n",
      "\tFile: ../source-data/karate_78.gt\n",
      "[4] facebook_friends.gt\n",
      "\tFile: ../source-data/facebook_friends.gt\n",
      "[5] dolphins.gt\n",
      "\tFile: ../source-data/dolphins.gt\n",
      "[6] Deltacom.gt\n",
      "\tFile: ../source-data/Deltacom.gt\n",
      "[7] macaque_neural.gt\n",
      "\tFile: ../source-data/macaque_neural.gt\n",
      "[8] terrorists_911.gt\n",
      "\tFile: ../source-data/terrorists_911.gt\n",
      "[9] london_transport.gt\n",
      "\tFile: ../source-data/london_transport.gt\n",
      "[10] train_terrorists.gt\n",
      "\tFile: ../source-data/train_terrorists.gt\n",
      "[11] new_guinea_tribes.gt\n",
      "\tFile: ../source-data/new_guinea_tribes.gt\n",
      "[12] jazz_collab.gt\n",
      "\tFile: ../source-data/jazz_collab.gt\n",
      "[13] cs_department.gt\n",
      "\tFile: ../source-data/cs_department.gt\n",
      "[14] adjnoun.gt\n",
      "\tFile: ../source-data/adjnoun.gt\n",
      "[15] malaria_genes__HVR_1.gt\n",
      "\tFile: ../source-data/malaria_genes__HVR_1.gt\n",
      "[16] karate__78.gt\n",
      "\tFile: ../source-data/karate__78.gt\n",
      "[17] internet_top_pop__Kdl.gt\n",
      "\tFile: ../source-data/internet_top_pop__Kdl.gt\n",
      "[18] polbooks.gt\n",
      "\tFile: ../source-data/polbooks.gt\n",
      "[19] moviegalaxies_591.gt\n",
      "\tFile: ../source-data/moviegalaxies_591.gt\n",
      "[20] product_space__SITC.gt\n",
      "\tFile: ../source-data/product_space__SITC.gt\n",
      "[21] moviegalaxies__178.gt\n",
      "\tFile: ../source-data/moviegalaxies__178.gt\n",
      "[22] blumenau_drug.gt\n",
      "\tFile: ../source-data/blumenau_drug.gt\n",
      "[23] montreal.gt\n",
      "\tFile: ../source-data/montreal.gt\n",
      "[24] november17.gt\n",
      "\tFile: ../source-data/november17.gt\n",
      "[25] dutch_criticism.gt\n",
      "\tFile: ../source-data/dutch_criticism.gt\n",
      "[26] game_thrones.gt\n",
      "\tFile: ../source-data/game_thrones.gt\n",
      "[27] football_tsevans.gt\n",
      "\tFile: ../source-data/football_tsevans.gt\n",
      "[28] marvel_partnerships.gt\n",
      "\tFile: ../source-data/marvel_partnerships.gt\n",
      "[29] student_cooperation.gt\n",
      "\tFile: ../source-data/student_cooperation.gt\n",
      "[30] lesmis.gt\n",
      "\tFile: ../source-data/lesmis.gt\n",
      "31 files appended to RECONSTRUCTORS[0+31]\n"
     ]
    }
   ],
   "source": [
    "load_all()"
   ]
  },
  {
   "cell_type": "code",
   "execution_count": 3,
   "id": "d0c8f680-026b-44d2-914c-6744005f6233",
   "metadata": {},
   "outputs": [
    {
     "name": "stdout",
     "output_type": "stream",
     "text": [
      "---- ---- ---- ----\n",
      "SELECTED [12] : jazz_collab\n",
      "Running on RECONSTRUCTORS[12]. Target 10000 (default 100) iterations.\n"
     ]
    },
    {
     "ename": "KeyboardInterrupt",
     "evalue": "",
     "output_type": "error",
     "traceback": [
      "\u001b[0;31m---------------------------------------------------------------------------\u001b[0m",
      "\u001b[0;31mKeyboardInterrupt\u001b[0m                         Traceback (most recent call last)",
      "\u001b[0;32m/tmp/ipykernel_58958/1191278302.py\u001b[0m in \u001b[0;36m<module>\u001b[0;34m\u001b[0m\n\u001b[1;32m      5\u001b[0m     \u001b[0mset_current\u001b[0m\u001b[0;34m(\u001b[0m\u001b[0mi\u001b[0m\u001b[0;34m)\u001b[0m\u001b[0;34m\u001b[0m\u001b[0;34m\u001b[0m\u001b[0m\n\u001b[1;32m      6\u001b[0m \u001b[0;34m\u001b[0m\u001b[0m\n\u001b[0;32m----> 7\u001b[0;31m     \u001b[0mrun_until_autostopped\u001b[0m\u001b[0;34m(\u001b[0m\u001b[0;34m)\u001b[0m\u001b[0;34m\u001b[0m\u001b[0;34m\u001b[0m\u001b[0m\n\u001b[0m\u001b[1;32m      8\u001b[0m     \u001b[0msave_output\u001b[0m\u001b[0;34m(\u001b[0m\u001b[0;34m)\u001b[0m\u001b[0;34m\u001b[0m\u001b[0;34m\u001b[0m\u001b[0m\n\u001b[1;32m      9\u001b[0m     \u001b[0msave_history\u001b[0m\u001b[0;34m(\u001b[0m\u001b[0;34m)\u001b[0m\u001b[0;34m\u001b[0m\u001b[0;34m\u001b[0m\u001b[0m\n",
      "\u001b[0;32m~/My_Projects/hypergraph-recovery/py-scripts/main.py\u001b[0m in \u001b[0;36mrun_until_autostopped\u001b[0;34m(min_iterations)\u001b[0m\n\u001b[1;32m     97\u001b[0m     \u001b[0mr1\u001b[0m \u001b[0;34m=\u001b[0m \u001b[0mRECONSTRUCTORS\u001b[0m\u001b[0;34m[\u001b[0m\u001b[0mCURRENT\u001b[0m\u001b[0;34m]\u001b[0m\u001b[0;34m\u001b[0m\u001b[0;34m\u001b[0m\u001b[0m\n\u001b[1;32m     98\u001b[0m     \u001b[0;32mwhile\u001b[0m \u001b[0;32mnot\u001b[0m \u001b[0mr1\u001b[0m\u001b[0;34m.\u001b[0m\u001b[0m_auto_stopped\u001b[0m\u001b[0;34m:\u001b[0m\u001b[0;34m\u001b[0m\u001b[0;34m\u001b[0m\u001b[0m\n\u001b[0;32m---> 99\u001b[0;31m         \u001b[0mrun_algorithm\u001b[0m\u001b[0;34m(\u001b[0m\u001b[0;36m10000\u001b[0m\u001b[0;34m,\u001b[0m \u001b[0;32mTrue\u001b[0m\u001b[0;34m,\u001b[0m \u001b[0mmin_iterations\u001b[0m\u001b[0;34m)\u001b[0m\u001b[0;34m\u001b[0m\u001b[0;34m\u001b[0m\u001b[0m\n\u001b[0m\u001b[1;32m    100\u001b[0m         \u001b[0mr1\u001b[0m\u001b[0;34m.\u001b[0m\u001b[0mstatus\u001b[0m\u001b[0;34m(\u001b[0m\u001b[0;34m)\u001b[0m\u001b[0;34m\u001b[0m\u001b[0;34m\u001b[0m\u001b[0m\n\u001b[1;32m    101\u001b[0m     \u001b[0msleep\u001b[0m\u001b[0;34m(\u001b[0m\u001b[0;36m1\u001b[0m\u001b[0;34m)\u001b[0m\u001b[0;34m\u001b[0m\u001b[0;34m\u001b[0m\u001b[0m\n",
      "\u001b[0;32m~/My_Projects/hypergraph-recovery/py-scripts/main.py\u001b[0m in \u001b[0;36mrun_algorithm\u001b[0;34m(max_iterations, autostop, min_iterations)\u001b[0m\n\u001b[1;32m     87\u001b[0m     \u001b[0;32mif\u001b[0m \u001b[0mlen\u001b[0m\u001b[0;34m(\u001b[0m\u001b[0mRECONSTRUCTORS\u001b[0m\u001b[0;34m)\u001b[0m \u001b[0;34m>\u001b[0m \u001b[0;36m0\u001b[0m\u001b[0;34m:\u001b[0m\u001b[0;34m\u001b[0m\u001b[0;34m\u001b[0m\u001b[0m\n\u001b[1;32m     88\u001b[0m         \u001b[0mprint\u001b[0m\u001b[0;34m(\u001b[0m\u001b[0;34mf\"Running on RECONSTRUCTORS[{CURRENT}]. Target {max_iterations} (default 100) iterations.\"\u001b[0m\u001b[0;34m)\u001b[0m\u001b[0;34m\u001b[0m\u001b[0;34m\u001b[0m\u001b[0m\n\u001b[0;32m---> 89\u001b[0;31m         \u001b[0mRECONSTRUCTORS\u001b[0m\u001b[0;34m[\u001b[0m\u001b[0mCURRENT\u001b[0m\u001b[0;34m]\u001b[0m\u001b[0;34m.\u001b[0m\u001b[0mrun_algorithm\u001b[0m\u001b[0;34m(\u001b[0m \u001b[0mmax_iterations\u001b[0m\u001b[0;34m,\u001b[0m \u001b[0mautostop\u001b[0m\u001b[0;34m,\u001b[0m \u001b[0mmin_iterations\u001b[0m\u001b[0;34m)\u001b[0m\u001b[0;34m\u001b[0m\u001b[0;34m\u001b[0m\u001b[0m\n\u001b[0m\u001b[1;32m     90\u001b[0m         \u001b[0mprint\u001b[0m\u001b[0;34m(\u001b[0m\u001b[0;34mf\"Stopped\"\u001b[0m\u001b[0;34m)\u001b[0m\u001b[0;34m\u001b[0m\u001b[0;34m\u001b[0m\u001b[0m\n\u001b[1;32m     91\u001b[0m     \u001b[0;32melse\u001b[0m\u001b[0;34m:\u001b[0m\u001b[0;34m\u001b[0m\u001b[0;34m\u001b[0m\u001b[0m\n",
      "\u001b[0;32m~/My_Projects/hypergraph-recovery/py-scripts/Hypergraph_Reconstructor.py\u001b[0m in \u001b[0;36mrun_algorithm\u001b[0;34m(self, iterations, autostop, min_iterations)\u001b[0m\n\u001b[1;32m    519\u001b[0m             \u001b[0mself\u001b[0m\u001b[0;34m.\u001b[0m\u001b[0m_it_finder\u001b[0m       \u001b[0;34m=\u001b[0m \u001b[0;34m-\u001b[0m\u001b[0;36m1\u001b[0m\u001b[0;34m\u001b[0m\u001b[0;34m\u001b[0m\u001b[0m\n\u001b[1;32m    520\u001b[0m             \u001b[0;32mfor\u001b[0m \u001b[0mj\u001b[0m \u001b[0;32min\u001b[0m \u001b[0mrange\u001b[0m\u001b[0;34m(\u001b[0m\u001b[0mself\u001b[0m\u001b[0;34m.\u001b[0m\u001b[0m_cores\u001b[0m\u001b[0;34m)\u001b[0m\u001b[0;34m:\u001b[0m\u001b[0;34m\u001b[0m\u001b[0;34m\u001b[0m\u001b[0m\n\u001b[0;32m--> 521\u001b[0;31m                 \u001b[0mself\u001b[0m\u001b[0;34m.\u001b[0m\u001b[0m_workers\u001b[0m\u001b[0;34m[\u001b[0m\u001b[0mj\u001b[0m\u001b[0;34m]\u001b[0m\u001b[0;34m.\u001b[0m\u001b[0mrun\u001b[0m\u001b[0;34m(\u001b[0m\u001b[0;34m)\u001b[0m\u001b[0;34m\u001b[0m\u001b[0;34m\u001b[0m\u001b[0m\n\u001b[0m\u001b[1;32m    522\u001b[0m             \u001b[0;32mif\u001b[0m \u001b[0mself\u001b[0m\u001b[0;34m.\u001b[0m\u001b[0m_it_found_change\u001b[0m\u001b[0;34m:\u001b[0m\u001b[0;34m\u001b[0m\u001b[0;34m\u001b[0m\u001b[0m\n\u001b[1;32m    523\u001b[0m                 \u001b[0mt\u001b[0m                 \u001b[0;34m=\u001b[0m \u001b[0mself\u001b[0m\u001b[0;34m.\u001b[0m\u001b[0m_it_pass_data\u001b[0m\u001b[0;34m[\u001b[0m\u001b[0;34m\"end_time\"\u001b[0m\u001b[0;34m]\u001b[0m\u001b[0;34m\u001b[0m\u001b[0;34m\u001b[0m\u001b[0m\n",
      "\u001b[0;32m/usr/lib/python3.10/multiprocessing/process.py\u001b[0m in \u001b[0;36mrun\u001b[0;34m(self)\u001b[0m\n\u001b[1;32m    106\u001b[0m         '''\n\u001b[1;32m    107\u001b[0m         \u001b[0;32mif\u001b[0m \u001b[0mself\u001b[0m\u001b[0;34m.\u001b[0m\u001b[0m_target\u001b[0m\u001b[0;34m:\u001b[0m\u001b[0;34m\u001b[0m\u001b[0;34m\u001b[0m\u001b[0m\n\u001b[0;32m--> 108\u001b[0;31m             \u001b[0mself\u001b[0m\u001b[0;34m.\u001b[0m\u001b[0m_target\u001b[0m\u001b[0;34m(\u001b[0m\u001b[0;34m*\u001b[0m\u001b[0mself\u001b[0m\u001b[0;34m.\u001b[0m\u001b[0m_args\u001b[0m\u001b[0;34m,\u001b[0m \u001b[0;34m**\u001b[0m\u001b[0mself\u001b[0m\u001b[0;34m.\u001b[0m\u001b[0m_kwargs\u001b[0m\u001b[0;34m)\u001b[0m\u001b[0;34m\u001b[0m\u001b[0;34m\u001b[0m\u001b[0m\n\u001b[0m\u001b[1;32m    109\u001b[0m \u001b[0;34m\u001b[0m\u001b[0m\n\u001b[1;32m    110\u001b[0m     \u001b[0;32mdef\u001b[0m \u001b[0mstart\u001b[0m\u001b[0;34m(\u001b[0m\u001b[0mself\u001b[0m\u001b[0;34m)\u001b[0m\u001b[0;34m:\u001b[0m\u001b[0;34m\u001b[0m\u001b[0;34m\u001b[0m\u001b[0m\n",
      "\u001b[0;32m~/My_Projects/hypergraph-recovery/py-scripts/Hypergraph_Reconstructor.py\u001b[0m in \u001b[0;36mfind_candidate_hypergraph\u001b[0;34m(self, index, pass_data)\u001b[0m\n\u001b[1;32m    406\u001b[0m \u001b[0;34m\u001b[0m\u001b[0m\n\u001b[1;32m    407\u001b[0m         \u001b[0;31m## check whether P(G|H) = 1 holds\u001b[0m\u001b[0;34m\u001b[0m\u001b[0;34m\u001b[0m\u001b[0m\n\u001b[0;32m--> 408\u001b[0;31m         \u001b[0m_projects_to_graph\u001b[0m \u001b[0;34m=\u001b[0m \u001b[0mself\u001b[0m\u001b[0;34m.\u001b[0m\u001b[0mget_Prob_G_if_H\u001b[0m\u001b[0;34m(\u001b[0m \u001b[0mself\u001b[0m\u001b[0;34m.\u001b[0m\u001b[0mget_adjacency_from_hypergraph\u001b[0m\u001b[0;34m(\u001b[0m \u001b[0m_new_hypergraph\u001b[0m\u001b[0;34m)\u001b[0m\u001b[0;34m)\u001b[0m\u001b[0;34m\u001b[0m\u001b[0;34m\u001b[0m\u001b[0m\n\u001b[0m\u001b[1;32m    409\u001b[0m \u001b[0;34m\u001b[0m\u001b[0m\n\u001b[1;32m    410\u001b[0m         \u001b[0;32mdef\u001b[0m \u001b[0mprint_progress\u001b[0m\u001b[0;34m(\u001b[0m\u001b[0;34m)\u001b[0m\u001b[0;34m:\u001b[0m\u001b[0;34m\u001b[0m\u001b[0;34m\u001b[0m\u001b[0m\n",
      "\u001b[0;32m~/My_Projects/hypergraph-recovery/py-scripts/Hypergraph_Reconstructor.py\u001b[0m in \u001b[0;36mget_adjacency_from_hypergraph\u001b[0;34m(self, hypergraph)\u001b[0m\n\u001b[1;32m    212\u001b[0m         \u001b[0;32mfor\u001b[0m \u001b[0mhyperedge\u001b[0m \u001b[0;32min\u001b[0m \u001b[0mhypergraph\u001b[0m\u001b[0;34m:\u001b[0m\u001b[0;34m\u001b[0m\u001b[0;34m\u001b[0m\u001b[0m\n\u001b[1;32m    213\u001b[0m             \u001b[0;32mif\u001b[0m \u001b[0mhypergraph\u001b[0m\u001b[0;34m[\u001b[0m \u001b[0mhyperedge\u001b[0m\u001b[0;34m]\u001b[0m \u001b[0;34m>\u001b[0m \u001b[0;36m0\u001b[0m\u001b[0;34m:\u001b[0m\u001b[0;34m\u001b[0m\u001b[0;34m\u001b[0m\u001b[0m\n\u001b[0;32m--> 214\u001b[0;31m                 \u001b[0mself\u001b[0m\u001b[0;34m.\u001b[0m\u001b[0mproject_hyperedge\u001b[0m\u001b[0;34m(\u001b[0m\u001b[0mhyperedge\u001b[0m\u001b[0;34m,\u001b[0m \u001b[0m_adj_G_projected\u001b[0m\u001b[0;34m)\u001b[0m\u001b[0;34m\u001b[0m\u001b[0;34m\u001b[0m\u001b[0m\n\u001b[0m\u001b[1;32m    215\u001b[0m         \u001b[0;32mreturn\u001b[0m \u001b[0m_adj_G_projected\u001b[0m\u001b[0;34m\u001b[0m\u001b[0;34m\u001b[0m\u001b[0m\n\u001b[1;32m    216\u001b[0m \u001b[0;34m\u001b[0m\u001b[0m\n",
      "\u001b[0;32m~/My_Projects/hypergraph-recovery/py-scripts/Hypergraph_Reconstructor.py\u001b[0m in \u001b[0;36mproject_hyperedge\u001b[0;34m(self, hyperedge, adj)\u001b[0m\n\u001b[1;32m    189\u001b[0m         \u001b[0;32mfor\u001b[0m \u001b[0mtup\u001b[0m \u001b[0;32min\u001b[0m \u001b[0m_gen\u001b[0m\u001b[0;34m:\u001b[0m\u001b[0;34m\u001b[0m\u001b[0;34m\u001b[0m\u001b[0m\n\u001b[1;32m    190\u001b[0m             \u001b[0m_fs\u001b[0m \u001b[0;34m=\u001b[0m \u001b[0mfrozenset\u001b[0m\u001b[0;34m(\u001b[0m\u001b[0mtup\u001b[0m\u001b[0;34m)\u001b[0m\u001b[0;34m\u001b[0m\u001b[0;34m\u001b[0m\u001b[0m\n\u001b[0;32m--> 191\u001b[0;31m             \u001b[0madj\u001b[0m\u001b[0;34m[\u001b[0m \u001b[0m_fs\u001b[0m\u001b[0;34m]\u001b[0m \u001b[0;34m=\u001b[0m \u001b[0;36m1\u001b[0m\u001b[0;34m\u001b[0m\u001b[0;34m\u001b[0m\u001b[0m\n\u001b[0m\u001b[1;32m    192\u001b[0m         \u001b[0;32mreturn\u001b[0m\u001b[0;34m\u001b[0m\u001b[0;34m\u001b[0m\u001b[0m\n\u001b[1;32m    193\u001b[0m \u001b[0;34m\u001b[0m\u001b[0m\n",
      "\u001b[0;31mKeyboardInterrupt\u001b[0m: "
     ]
    }
   ],
   "source": [
    "# run the algorithm and save the results\n",
    "#run_list = list(range(0, 3))\n",
    "run_list = list(range(12, len(RECONSTRUCTORS)))\n",
    "for i in run_list:\n",
    "    set_current(i)\n",
    "    \n",
    "    run_until_autostopped()\n",
    "    save_output()\n",
    "    save_history()\n",
    "    save_history_exact()\n",
    "    save_hypergraph()\n",
    "    \n",
    "    run_until_autostopped(2*RECONSTRUCTORS[i]._iteration +1)\n",
    "    save_output()\n",
    "    save_history()\n",
    "    save_history_exact()\n",
    "    save_hypergraph()"
   ]
  },
  {
   "cell_type": "code",
   "execution_count": null,
   "id": "374db822-c1b5-465f-921e-4aeac189dc44",
   "metadata": {},
   "outputs": [],
   "source": []
  }
 ],
 "metadata": {
  "kernelspec": {
   "display_name": "Python 3 (ipykernel)",
   "language": "python",
   "name": "python3"
  },
  "language_info": {
   "codemirror_mode": {
    "name": "ipython",
    "version": 3
   },
   "file_extension": ".py",
   "mimetype": "text/x-python",
   "name": "python",
   "nbconvert_exporter": "python",
   "pygments_lexer": "ipython3",
   "version": "3.10.6"
  }
 },
 "nbformat": 4,
 "nbformat_minor": 5
}
