{
 "cells": [
  {
   "cell_type": "code",
   "execution_count": null,
   "id": "c07d3db0-bbe5-42dd-b473-6ff86bca00a5",
   "metadata": {},
   "outputs": [],
   "source": [
    "# Runs through all datasets in the source-data folder"
   ]
  },
  {
   "cell_type": "code",
   "execution_count": 4,
   "id": "c46f1603-b088-4718-82a3-5848eb15c6e5",
   "metadata": {},
   "outputs": [
    {
     "name": "stdout",
     "output_type": "stream",
     "text": [
      "\n",
      "-- Hypergraph Reconstruction from Network Data --\n",
      "Taking datasets from the folder: \"../source-data/\" \n",
      "Modify global variable DATASET_LOCATION to change this.\n",
      "Outputting to folder: \"../output/\" \n",
      "Modify global variable OUTPUT_LOCATION to change this.\n",
      "> run load_file() to start\n",
      "> run load_all()  to load all .gt files in the dataset folder\n"
     ]
    }
   ],
   "source": [
    "run main.py"
   ]
  },
  {
   "cell_type": "code",
   "execution_count": 5,
   "id": "09c09eaf-73bb-47f3-b86f-be34a9cf3f55",
   "metadata": {},
   "outputs": [
    {
     "name": "stdout",
     "output_type": "stream",
     "text": [
      "[0] ugandan_village__health-advice_8.gt\n",
      "[1] novermber17.gt\n",
      "[2] karate_77.gt\n",
      "[3] euroroad.gt\n",
      "[4] windsurfers.gt\n",
      "[5] karate_78.gt\n",
      "[6] facebook_friends.gt\n",
      "[7] dolphins.gt\n",
      "[8] Deltacom.gt\n",
      "[9] macaque_neural.gt\n",
      "[10] ugandan_village__friendship_16.gt\n",
      "[11] terrorists_911.gt\n",
      "[12] london_transport.gt\n",
      "[13] train_terrorists.gt\n",
      "[14] new_guinea_tribes.gt\n",
      "[15] jazz_collab.gt\n",
      "[16] zebras.gt\n",
      "[17] cs_department.gt\n",
      "[18] adjnoun.gt\n",
      "[19] malaria_genes__HVR_1.gt\n",
      "[20] malaria_genes__HVR_5.gt\n",
      "[21] karate__78.gt\n",
      "[22] interactome_pdz.gt\n",
      "[23] internet_top_pop__Kdl.gt\n",
      "[24] polbooks.gt\n",
      "[25] hermaphrodite_gap_junction_corrected.gt\n",
      "[26] moviegalaxies_591.gt\n",
      "[27] product_space__SITC.gt\n",
      "[28] moviegalaxies__178.gt\n",
      "[29] blumenau_drug.gt\n",
      "[30] montreal.gt\n",
      "[31] november17.gt\n",
      "[32] dutch_criticism.gt\n",
      "[33] game_thrones.gt\n",
      "[34] football_tsevans.gt\n",
      "[35] marvel_partnerships.gt\n",
      "[36] student_cooperation.gt\n",
      "[37] lesmis.gt\n",
      "[38] us_congress__S96.gt\n",
      "39 files appended to RECONSTRUCTORS[0+39]\n"
     ]
    }
   ],
   "source": [
    "load_all()\n",
    "#print(f\"\\n* Current: {CURRENT} *\")"
   ]
  },
  {
   "cell_type": "code",
   "execution_count": 6,
   "id": "5f89c949-7b6b-4db8-96bc-44977680ccaf",
   "metadata": {},
   "outputs": [
    {
     "ename": "NameError",
     "evalue": "name 'set_current' is not defined",
     "output_type": "error",
     "traceback": [
      "\u001b[0;31m---------------------------------------------------------------------------\u001b[0m",
      "\u001b[0;31mNameError\u001b[0m                                 Traceback (most recent call last)",
      "\u001b[0;32m/tmp/ipykernel_10960/1471088585.py\u001b[0m in \u001b[0;36m<module>\u001b[0;34m\u001b[0m\n\u001b[1;32m     10\u001b[0m \u001b[0mrun_list\u001b[0m \u001b[0;34m=\u001b[0m \u001b[0;34m[\u001b[0m\u001b[0;36m19\u001b[0m\u001b[0;34m,\u001b[0m\u001b[0;36m20\u001b[0m\u001b[0;34m,\u001b[0m\u001b[0;36m21\u001b[0m\u001b[0;34m]\u001b[0m\u001b[0;34m\u001b[0m\u001b[0;34m\u001b[0m\u001b[0m\n\u001b[1;32m     11\u001b[0m \u001b[0;32mfor\u001b[0m \u001b[0mi\u001b[0m \u001b[0;32min\u001b[0m \u001b[0mrun_list\u001b[0m\u001b[0;34m:\u001b[0m\u001b[0;34m\u001b[0m\u001b[0;34m\u001b[0m\u001b[0m\n\u001b[0;32m---> 12\u001b[0;31m     \u001b[0mset_current\u001b[0m\u001b[0;34m(\u001b[0m\u001b[0mi\u001b[0m\u001b[0;34m)\u001b[0m\u001b[0;34m\u001b[0m\u001b[0;34m\u001b[0m\u001b[0m\n\u001b[0m\u001b[1;32m     13\u001b[0m     \u001b[0mrun_until_autostopped\u001b[0m\u001b[0;34m(\u001b[0m\u001b[0;34m)\u001b[0m\u001b[0;34m\u001b[0m\u001b[0;34m\u001b[0m\u001b[0m\n\u001b[1;32m     14\u001b[0m     \u001b[0msave_output\u001b[0m\u001b[0;34m(\u001b[0m\u001b[0;34m)\u001b[0m\u001b[0;34m\u001b[0m\u001b[0;34m\u001b[0m\u001b[0m\n",
      "\u001b[0;31mNameError\u001b[0m: name 'set_current' is not defined"
     ]
    }
   ],
   "source": [
    "# run the algorithm and save the results\n",
    "#run_list = list(range(18, len(RECONSTRUCTORS)))\n",
    "#run_list = [17,16,15,14]\n",
    "#run_list = [18,19,20,21]\n",
    "#run_list = [23,24,25,26]\n",
    "#run_list = [27,28,29,30]\n",
    "#run_list = [31,32,33,34]\n",
    "#run_list = [35,36,37,38]\n",
    "#run_list = [39,40,41,42]\n",
    "run_list = [19,20,21]\n",
    "for i in run_list:\n",
    "    set_current(i)\n",
    "    run_until_autostopped()\n",
    "    save_output()\n",
    "    run_until_autostopped(3000)\n",
    "    save_output()"
   ]
  },
  {
   "cell_type": "code",
   "execution_count": null,
   "id": "08b18c27-2d73-4a60-a5bf-341b643ce2a5",
   "metadata": {},
   "outputs": [],
   "source": []
  }
 ],
 "metadata": {
  "kernelspec": {
   "display_name": "Python 3 (ipykernel)",
   "language": "python",
   "name": "python3"
  },
  "language_info": {
   "codemirror_mode": {
    "name": "ipython",
    "version": 3
   },
   "file_extension": ".py",
   "mimetype": "text/x-python",
   "name": "python",
   "nbconvert_exporter": "python",
   "pygments_lexer": "ipython3",
   "version": "3.10.6"
  }
 },
 "nbformat": 4,
 "nbformat_minor": 5
}
