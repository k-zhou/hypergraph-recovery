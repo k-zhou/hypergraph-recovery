{
 "cells": [
  {
   "cell_type": "code",
   "execution_count": null,
   "id": "0177d9f2-acbf-4b26-88a9-dd165a66cc0a",
   "metadata": {},
   "outputs": [],
   "source": [
    "run main.py"
   ]
  },
  {
   "cell_type": "code",
   "execution_count": null,
   "id": "6c5d6ca4-e195-4b3d-91d6-616f7086887f",
   "metadata": {},
   "outputs": [],
   "source": [
    "load_all()"
   ]
  },
  {
   "cell_type": "code",
   "execution_count": null,
   "id": "14fb8814-d078-4b38-a6cb-208aca601ab8",
   "metadata": {},
   "outputs": [],
   "source": [
    "%%capture cap --no-stderr\n",
    "\n",
    "results = [False for n in range(len(RECONSTRUCTORS))]\n",
    "outputs = [[]    for n in range(len(RECONSTRUCTORS))]\n",
    "for i in range(len(RECONSTRUCTORS)):\n",
    "    print(f\"------ {i} ------\")\n",
    "    results[i] = (RECONSTRUCTORS[i]._filename_pathless, RECONSTRUCTORS[i].test_connectedness(outputs[i]))\n",
    "    print(results[i])\n",
    "    if not results[i][1]:\n",
    "        print([len(subgraph) for subgraph in outputs[i]])\n",
    "    print(f\"------ END ------\")\n",
    "\n",
    "with open('connectedness_output_log', 'w') as f:\n",
    "    f.write(cap.stdout)"
   ]
  },
  {
   "cell_type": "code",
   "execution_count": null,
   "id": "1541f114-ce79-4a26-8c7b-04128ff28d37",
   "metadata": {},
   "outputs": [],
   "source": []
  }
 ],
 "metadata": {
  "kernelspec": {
   "display_name": "Python 3 (ipykernel)",
   "language": "python",
   "name": "python3"
  },
  "language_info": {
   "codemirror_mode": {
    "name": "ipython",
    "version": 3
   },
   "file_extension": ".py",
   "mimetype": "text/x-python",
   "name": "python",
   "nbconvert_exporter": "python",
   "pygments_lexer": "ipython3",
   "version": "3.10.6"
  }
 },
 "nbformat": 4,
 "nbformat_minor": 5
}
