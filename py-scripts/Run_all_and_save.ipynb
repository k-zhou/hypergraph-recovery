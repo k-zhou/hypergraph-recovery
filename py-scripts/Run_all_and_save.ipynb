{
 "cells": [
  {
   "cell_type": "code",
   "execution_count": null,
   "id": "7cb65778-2507-47ce-890a-67ae9da47af5",
   "metadata": {},
   "outputs": [],
   "source": [
    "# Runs through all datasets in the source-data folder"
   ]
  },
  {
   "cell_type": "code",
   "execution_count": null,
   "id": "151912a4-e870-4e8b-8140-0c833c5fd030",
   "metadata": {},
   "outputs": [],
   "source": [
    "run main.py"
   ]
  },
  {
   "cell_type": "code",
   "execution_count": null,
   "id": "fc63cfd3-cd89-4131-bb94-a54658c996f9",
   "metadata": {},
   "outputs": [],
   "source": [
    "load_all()"
   ]
  },
  {
   "cell_type": "code",
   "execution_count": null,
   "id": "d0c8f680-026b-44d2-914c-6744005f6233",
   "metadata": {},
   "outputs": [],
   "source": [
    "# run the algorithm and save the results\n",
    "#run_list = list(range(0, 3))\n",
    "run_list = list(range(0, len(RECONSTRUCTORS)))\n",
    "for i in run_list:\n",
    "    set_current(i)\n",
    "    \n",
    "    run_until_autostopped()\n",
    "    save_output()\n",
    "    save_history()\n",
    "    save_history_exact()\n",
    "    save_hypergraph()\n",
    "    \n",
    "    run_until_autostopped(2*RECONSTRUCTORS[i]._iteration +1)\n",
    "    save_output()\n",
    "    save_history()\n",
    "    save_history_exact()\n",
    "    save_hypergraph()"
   ]
  },
  {
   "cell_type": "code",
   "execution_count": null,
   "id": "374db822-c1b5-465f-921e-4aeac189dc44",
   "metadata": {},
   "outputs": [],
   "source": []
  }
 ],
 "metadata": {
  "kernelspec": {
   "display_name": "Python 3 (ipykernel)",
   "language": "python",
   "name": "python3"
  },
  "language_info": {
   "codemirror_mode": {
    "name": "ipython",
    "version": 3
   },
   "file_extension": ".py",
   "mimetype": "text/x-python",
   "name": "python",
   "nbconvert_exporter": "python",
   "pygments_lexer": "ipython3",
   "version": "3.10.6"
  }
 },
 "nbformat": 4,
 "nbformat_minor": 5
}
