{
 "cells": [
  {
   "cell_type": "code",
   "execution_count": null,
   "id": "62b1bd6e-86b6-4084-aee7-22ebe1e467e3",
   "metadata": {},
   "outputs": [],
   "source": [
    "import os\n",
    "from fnmatch import fnmatch\n",
    "import matplotlib.pyplot as plt\n",
    "import helper_functions  as hf"
   ]
  },
  {
   "cell_type": "code",
   "execution_count": null,
   "id": "955ac7ad-1600-4ec0-ad0d-fa99510b2015",
   "metadata": {},
   "outputs": [],
   "source": [
    "## Load files\n",
    "OUTPUT_LOCATION = \"../output/\"\n",
    "print(f\"Loading files from {OUTPUT_LOCATION}\")\n",
    "\n",
    "all_files = list() # tuples of ( filename_without_path, plotting_array, plt.figure )\n",
    "for filename in os.listdir(OUTPUT_LOCATION):\n",
    "    if fnmatch(filename, \"*(history)*.txt\"):\n",
    "        plot_arr = list()\n",
    "        hf.convert_history_to_plot_array(OUTPUT_LOCATION + filename, plot_arr)\n",
    "        all_files.append( (filename, [i[2:] for i in plot_arr], plt.figure()) )\n",
    "        plt.close()\n",
    "print(f\"Loaded {len(all_files)} file(s).\")"
   ]
  },
  {
   "cell_type": "code",
   "execution_count": null,
   "id": "c73927de-62cf-4f96-a4a2-6818b710ec90",
   "metadata": {},
   "outputs": [],
   "source": [
    "## Plot figures and save to files\n",
    "for (fname, plot_arr, fig) in all_files:\n",
    "    ax = fig.subplots() # default nrows=1, ncols=1\n",
    "    ax.plot(plot_arr)\n",
    "    ax.set_title(fname.rsplit('(')[0])\n",
    "    ax.set_xlabel(\"Iteration\")\n",
    "    ax.set_ylabel(\"Number of hyperedges\")\n",
    "    ax.legend(labels=[str(i) for i in range(2,len(plot_arr[0])+2)] )\n",
    "    ax.grid()\n",
    "    fig.savefig(OUTPUT_LOCATION + fname.replace(\".txt\", \".svg\").replace(\"history\",\"figure\"))\n",
    "print(f\"Plotted {len(all_files)} file(s).\")"
   ]
  },
  {
   "cell_type": "code",
   "execution_count": null,
   "id": "642a1956-cb70-407f-93f1-361eafe9adc7",
   "metadata": {},
   "outputs": [],
   "source": []
  }
 ],
 "metadata": {
  "kernelspec": {
   "display_name": "Python 3 (ipykernel)",
   "language": "python",
   "name": "python3"
  },
  "language_info": {
   "codemirror_mode": {
    "name": "ipython",
    "version": 3
   },
   "file_extension": ".py",
   "mimetype": "text/x-python",
   "name": "python",
   "nbconvert_exporter": "python",
   "pygments_lexer": "ipython3",
   "version": "3.10.6"
  }
 },
 "nbformat": 4,
 "nbformat_minor": 5
}
