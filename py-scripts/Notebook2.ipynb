{
 "cells": [
  {
   "cell_type": "code",
   "execution_count": 1,
   "id": "c46f1603-b088-4718-82a3-5848eb15c6e5",
   "metadata": {},
   "outputs": [
    {
     "name": "stderr",
     "output_type": "stream",
     "text": [
      "/usr/lib/python3/dist-packages/scipy/__init__.py:146: UserWarning: A NumPy version >=1.17.3 and <1.25.0 is required for this version of SciPy (detected version 1.25.2\n",
      "  warnings.warn(f\"A NumPy version >={np_minversion} and <{np_maxversion}\"\n"
     ]
    },
    {
     "name": "stdout",
     "output_type": "stream",
     "text": [
      "\n",
      "-- Hypergraph Reconstruction from Network Data --\n",
      "Taking datasets from the folder: \"../source-data/\" \n",
      "Modify global variable DATASET_LOCATION to change this.\n",
      "Outputting to folder: \"../output/\" \n",
      "Modify global variable OUTPUT_LOCATION to change this.\n",
      "> run load_file() to start\n",
      "> run load_all()  to load all .gt files in the dataset folder\n"
     ]
    }
   ],
   "source": [
    "run main.py"
   ]
  },
  {
   "cell_type": "code",
   "execution_count": 2,
   "id": "09c09eaf-73bb-47f3-b86f-be34a9cf3f55",
   "metadata": {},
   "outputs": [
    {
     "name": "stdin",
     "output_type": "stream",
     "text": [
      "Enter the file / path to file: ../source-data/ adjnoun.gt\n"
     ]
    },
    {
     "name": "stdout",
     "output_type": "stream",
     "text": [
      "Loaded file adjnoun.gt to object \"RECONSTRUCTORS[0]\"\n"
     ]
    }
   ],
   "source": [
    "load_file()"
   ]
  },
  {
   "cell_type": "code",
   "execution_count": 3,
   "id": "70fc3259-31b7-4de3-ad4c-ee21eec2a839",
   "metadata": {},
   "outputs": [
    {
     "name": "stdout",
     "output_type": "stream",
     "text": [
      "Current iteration: 0\n",
      "Edges of size k: [0, 0, 117, 138, 45, 3]\n",
      "Auto-stop state: [0, 0, 0, 0, 0, 0]\n",
      " rw_index 0\n",
      " separate sum 0\n",
      "Total runtime: 0\n"
     ]
    }
   ],
   "source": [
    "r1 = RECONSTRUCTORS[CURRENT]\n",
    "r1.init_hypergraph()\n",
    "r1.status()"
   ]
  },
  {
   "cell_type": "code",
   "execution_count": 4,
   "id": "5f89c949-7b6b-4db8-96bc-44977680ccaf",
   "metadata": {},
   "outputs": [
    {
     "name": "stdout",
     "output_type": "stream",
     "text": [
      "Running on RECONSTRUCTORS[0]\n",
      "Auto-stopping algorithm at 1172th iteration; 4\n",
      "2000 (default 100) iterations run.\n",
      "Current iteration: 1172\n",
      "Edges of size k: [0, 0, 701, 0, 0, 0]\n",
      "Auto-stop state: [0, 0, 4, 0, 0, 0]\n",
      " rw_index 72\n",
      " separate sum 4\n",
      "Total runtime: 2693230472\n"
     ]
    }
   ],
   "source": [
    "# repeat this cell until stabilized\n",
    "while not r1._auto_stopped:\n",
    "    run_algorithm(10000)\n",
    "    r1.status()"
   ]
  },
  {
   "cell_type": "code",
   "execution_count": 6,
   "id": "c9378b1a-6cf1-4b64-aad7-d7c42083ee91",
   "metadata": {},
   "outputs": [
    {
     "name": "stdout",
     "output_type": "stream",
     "text": [
      "Writing to file...\n",
      "Data written to ../output/adjnoun-20240220-1227.txt\n"
     ]
    }
   ],
   "source": [
    "save_output()"
   ]
  },
  {
   "cell_type": "code",
   "execution_count": null,
   "id": "1e0921d2-cea5-4b7e-b18a-b7bdc2215137",
   "metadata": {},
   "outputs": [],
   "source": []
  }
 ],
 "metadata": {
  "kernelspec": {
   "display_name": "Python 3 (ipykernel)",
   "language": "python",
   "name": "python3"
  },
  "language_info": {
   "codemirror_mode": {
    "name": "ipython",
    "version": 3
   },
   "file_extension": ".py",
   "mimetype": "text/x-python",
   "name": "python",
   "nbconvert_exporter": "python",
   "pygments_lexer": "ipython3",
   "version": "3.10.6"
  }
 },
 "nbformat": 4,
 "nbformat_minor": 5
}
